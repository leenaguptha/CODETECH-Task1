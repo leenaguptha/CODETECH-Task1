{
  "nbformat": 4,
  "nbformat_minor": 0,
  "metadata": {
    "colab": {
      "provenance": [],
      "include_colab_link": true
    },
    "kernelspec": {
      "name": "python3",
      "display_name": "Python 3"
    },
    "language_info": {
      "name": "python"
    }
  },
  "cells": [
    {
      "cell_type": "markdown",
      "metadata": {
        "id": "view-in-github",
        "colab_type": "text"
      },
      "source": [
        "<a href=\"https://colab.research.google.com/github/leenaguptha/CODETECH-Task1/blob/main/FUNCTIONS_1_.ipynb\" target=\"_parent\"><img src=\"https://colab.research.google.com/assets/colab-badge.svg\" alt=\"Open In Colab\"/></a>"
      ]
    },
    {
      "cell_type": "markdown",
      "source": [
        "*** USE THE CONCEPT OF FUNCTIONS TO SOLVE THE BELOW PROGRAMMING QUESTIONS ***"
      ],
      "metadata": {
        "id": "Rg2ZBqGAQwAf"
      }
    },
    {
      "cell_type": "markdown",
      "source": [
        "1) Write a Python function to sum all the numbers in a list.\n",
        "\n",
        "Sample List : (8, 2, 3, 0, 7)\n",
        "\n",
        "Expected Output : 20\n"
      ],
      "metadata": {
        "id": "ScHTvbE1QwCo"
      }
    },
    {
      "cell_type": "code",
      "source": [
        "#WRITE YOUR CODE HERE\n",
        "def sum_list(numbers):\n",
        "    return sum(numbers)\n",
        "\n",
        "sample_list = (8, 2, 3, 0, 7)\n",
        "print(\"Sum:\", sum_list(sample_list))\n"
      ],
      "metadata": {
        "id": "aR_k4uReQ8Og"
      },
      "execution_count": null,
      "outputs": []
    },
    {
      "cell_type": "markdown",
      "source": [
        "2) Write a Python function to multiply all the numbers in a list.\n",
        "\n",
        "Sample List : (8, 2, 3, -1, 7)\n",
        "\n",
        "Expected Output : -336"
      ],
      "metadata": {
        "id": "dZtcDLjAQwE-"
      }
    },
    {
      "cell_type": "code",
      "source": [
        "#WRITE YOUR CODE HERE\n",
        "def multiply_list(numbers):\n",
        "    result = 1\n",
        "    for num in numbers:\n",
        "        result *= num\n",
        "    return result\n",
        "\n",
        "sample_list = (8, 2, 3, -1, 7)\n",
        "print(\"Product:\", multiply_list(sample_list))\n"
      ],
      "metadata": {
        "id": "98uwoSPnRHyL"
      },
      "execution_count": null,
      "outputs": []
    },
    {
      "cell_type": "markdown",
      "source": [
        "3) Write a Python program to reverse a string.\n",
        "\n",
        "Sample String : \"1234abcd\"\n",
        "\n",
        "Expected Output : \"dcba4321\""
      ],
      "metadata": {
        "id": "99G7rde1QwHN"
      }
    },
    {
      "cell_type": "code",
      "source": [
        "#WRITE YOUR CODE HERE\n",
        "def reverse_string(s):\n",
        "    return s[::-1]\n",
        "\n",
        "sample_string = \"1234abcd\"\n",
        "print(\"Reversed String:\", reverse_string(sample_string))\n"
      ],
      "metadata": {
        "id": "6qmLELFCRQAD"
      },
      "execution_count": null,
      "outputs": []
    },
    {
      "cell_type": "markdown",
      "source": [
        "4) Write a Python function to calculate the factorial of a number (a non-negative integer). The function accepts the number as an argument."
      ],
      "metadata": {
        "id": "_XE8as7eQwJn"
      }
    },
    {
      "cell_type": "code",
      "source": [
        "#WRITE YOUR CODE HERE\n",
        "def factorial(n):\n",
        "    if n == 0 or n == 1:\n",
        "        return 1\n",
        "    return n * factorial(n - 1)\n",
        "\n",
        "num = 5  # You can change this value\n",
        "print(f\"Factorial of {num} is:\", factorial(num))\n"
      ],
      "metadata": {
        "id": "Di5n5kNARZdn"
      },
      "execution_count": null,
      "outputs": []
    },
    {
      "cell_type": "markdown",
      "source": [
        "5) Write a Python function to check whether a number falls within a given range."
      ],
      "metadata": {
        "id": "I2zyMS7XQwLx"
      }
    },
    {
      "cell_type": "code",
      "source": [
        "#WRITE YOUR CODE HERE\n",
        "def is_in_range(num, start, end):\n",
        "    return start <= num <= end\n",
        "\n",
        "num = 10\n",
        "start, end = 5, 15  # Example range\n",
        "print(f\"Is {num} in range {start}-{end}?\", is_in_range(num, start, end))\n"
      ],
      "metadata": {
        "id": "rouydHDQRgcc"
      },
      "execution_count": null,
      "outputs": []
    }
  ]
}